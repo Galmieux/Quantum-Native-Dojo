{
  "cells": [
    {
      "cell_type": "markdown",
      "metadata": {
        "id": "IDIDrZJ_u3CF"
      },
      "source": [
        "# 量子計算入門ハンズオン (1回目)\n",
        "本ノートブックをgoogle driveに保存した後、ブラウザ上のgoogle colaboratoryでこのノートブックを開いてください。(ローカル環境で動かしたい方はそれでもOKです)\n",
        "\n",
        "## QURI Partsの紹介\n",
        "\n",
        "量子計算を記述するためのライブラリは、IBMのQiskit, Googleのcirqなど様々なものが存在しますが、それぞれ記法が異なるために各社の実機を使い分けたい場合などにコードを書きなおす必要があります。quri_partsはこうしたSDK間の差異を吸収し、共通したインタフェースで記述、実行できることを目的としてQunaSysが開発しているオープンソースのライブラリで、quri_partsで記述したコードはqiskitなどのほかのライブラリの処理にコンバートすることが可能です。\n",
        "\n",
        "本講義では、基本的にこのquri_partsを用いて処理の実装を行いますが、状況に応じてqiskitなどを組み合わせて解説することもあります。\n",
        "\n",
        "## 環境構築\n",
        "以下のセルを実行で環境構築ができます。\n",
        "\n",
        "$$\n",
        "\\renewcommand{\\ket}[1]{\\left| #1 \\right\\rangle}\n",
        "\\renewcommand{\\bra}[1]{\\left\\langle #1 \\right|}\n",
        "\\renewcommand{\\braket}[2]{\\left\\langle #1 \\middle| #2 \\right\\rangle}\n",
        "$$"
      ]
    },
    {
      "cell_type": "code",
      "execution_count": 1,
      "metadata": {
        "colab": {
          "base_uri": "https://localhost:8080/"
        },
        "id": "g1cEZVUEu3CH",
        "outputId": "08effbe3-20c0-4198-dd60-dfe7958ff1b2"
      },
      "outputs": [
        {
          "name": "stdout",
          "output_type": "stream",
          "text": [
            "Requirement already satisfied: numpy in /usr/local/lib/python3.10/dist-packages (1.25.2)\n",
            "Requirement already satisfied: matplotlib in /usr/local/lib/python3.10/dist-packages (3.7.1)\n",
            "Collecting qiskit\n",
            "  Downloading qiskit-1.1.1-cp38-abi3-manylinux_2_17_x86_64.manylinux2014_x86_64.whl.metadata (12 kB)\n",
            "Collecting pylatexenc\n",
            "  Downloading pylatexenc-2.10.tar.gz (162 kB)\n",
            "\u001b[2K     \u001b[90m━━━━━━━━━━━━━━━━━━━━━━━━━━━━━━━━━━━━━━━━\u001b[0m \u001b[32m162.6/162.6 kB\u001b[0m \u001b[31m2.7 MB/s\u001b[0m eta \u001b[36m0:00:00\u001b[0m\n",
            "\u001b[?25h  Preparing metadata (setup.py) ... \u001b[?25l\u001b[?25hdone\n",
            "Collecting quri_parts\n",
            "  Downloading quri_parts-0.19.0-py3-none-any.whl.metadata (6.6 kB)\n",
            "Requirement already satisfied: scipy in /usr/local/lib/python3.10/dist-packages (1.11.4)\n",
            "Requirement already satisfied: contourpy>=1.0.1 in /usr/local/lib/python3.10/dist-packages (from matplotlib) (1.2.1)\n",
            "Requirement already satisfied: cycler>=0.10 in /usr/local/lib/python3.10/dist-packages (from matplotlib) (0.12.1)\n",
            "Requirement already satisfied: fonttools>=4.22.0 in /usr/local/lib/python3.10/dist-packages (from matplotlib) (4.53.1)\n",
            "Requirement already satisfied: kiwisolver>=1.0.1 in /usr/local/lib/python3.10/dist-packages (from matplotlib) (1.4.5)\n",
            "Requirement already satisfied: packaging>=20.0 in /usr/local/lib/python3.10/dist-packages (from matplotlib) (24.1)\n",
            "Requirement already satisfied: pillow>=6.2.0 in /usr/local/lib/python3.10/dist-packages (from matplotlib) (9.4.0)\n",
            "Requirement already satisfied: pyparsing>=2.3.1 in /usr/local/lib/python3.10/dist-packages (from matplotlib) (3.1.2)\n",
            "Requirement already satisfied: python-dateutil>=2.7 in /usr/local/lib/python3.10/dist-packages (from matplotlib) (2.8.2)\n",
            "Collecting rustworkx>=0.14.0 (from qiskit)\n",
            "  Downloading rustworkx-0.15.1-cp38-abi3-manylinux_2_17_x86_64.manylinux2014_x86_64.whl.metadata (9.9 kB)\n",
            "Requirement already satisfied: sympy>=1.3 in /usr/local/lib/python3.10/dist-packages (from qiskit) (1.13.1)\n",
            "Collecting dill>=0.3 (from qiskit)\n",
            "  Downloading dill-0.3.8-py3-none-any.whl.metadata (10 kB)\n",
            "Collecting stevedore>=3.0.0 (from qiskit)\n",
            "  Downloading stevedore-5.2.0-py3-none-any.whl.metadata (2.3 kB)\n",
            "Requirement already satisfied: typing-extensions in /usr/local/lib/python3.10/dist-packages (from qiskit) (4.12.2)\n",
            "Collecting symengine>=0.11 (from qiskit)\n",
            "  Downloading symengine-0.11.0-cp310-cp310-manylinux_2_12_x86_64.manylinux2010_x86_64.whl.metadata (1.2 kB)\n",
            "Collecting quri-parts-algo (from quri_parts)\n",
            "  Downloading quri_parts_algo-0.19.0-py3-none-any.whl.metadata (1.2 kB)\n",
            "Collecting quri-parts-chem (from quri_parts)\n",
            "  Downloading quri_parts_chem-0.19.0-py3-none-any.whl.metadata (1.1 kB)\n",
            "Collecting quri-parts-circuit (from quri_parts)\n",
            "  Downloading quri_parts_circuit-0.19.0-py3-none-any.whl.metadata (1.1 kB)\n",
            "Collecting quri-parts-core (from quri_parts)\n",
            "  Downloading quri_parts_core-0.19.0-py3-none-any.whl.metadata (1.2 kB)\n",
            "Collecting quri-parts-qiskit (from quri_parts[qiskit])\n",
            "  Downloading quri_parts_qiskit-0.19.0-py3-none-any.whl.metadata (1.3 kB)\n",
            "Collecting quri-parts-qulacs (from quri_parts[qulacs])\n",
            "  Downloading quri_parts_qulacs-0.19.0-py3-none-any.whl.metadata (1.3 kB)\n",
            "Requirement already satisfied: six>=1.5 in /usr/local/lib/python3.10/dist-packages (from python-dateutil>=2.7->matplotlib) (1.16.0)\n",
            "Collecting pbr!=2.1.0,>=2.0.0 (from stevedore>=3.0.0->qiskit)\n",
            "  Downloading pbr-6.0.0-py2.py3-none-any.whl.metadata (1.3 kB)\n",
            "Requirement already satisfied: mpmath<1.4,>=1.1.0 in /usr/local/lib/python3.10/dist-packages (from sympy>=1.3->qiskit) (1.3.0)\n",
            "Requirement already satisfied: networkx in /usr/local/lib/python3.10/dist-packages (from quri-parts-qiskit->quri_parts[qiskit]) (3.3)\n",
            "Requirement already satisfied: pydantic<3.0,>=2.0 in /usr/local/lib/python3.10/dist-packages (from quri-parts-qiskit->quri_parts[qiskit]) (2.8.2)\n",
            "Collecting qiskit-ibm-runtime<0.23.0,>=0.22.0 (from quri-parts-qiskit->quri_parts[qiskit])\n",
            "  Downloading qiskit_ibm_runtime-0.22.0-py3-none-any.whl.metadata (19 kB)\n",
            "Collecting Qulacs<0.6.0,>=0.3.0 (from quri-parts-qulacs->quri_parts[qulacs])\n",
            "  Downloading qulacs-0.5.6-cp310-cp310-manylinux_2_17_x86_64.manylinux2014_x86_64.whl.metadata (13 kB)\n",
            "Requirement already satisfied: annotated-types>=0.4.0 in /usr/local/lib/python3.10/dist-packages (from pydantic<3.0,>=2.0->quri-parts-qiskit->quri_parts[qiskit]) (0.7.0)\n",
            "Requirement already satisfied: pydantic-core==2.20.1 in /usr/local/lib/python3.10/dist-packages (from pydantic<3.0,>=2.0->quri-parts-qiskit->quri_parts[qiskit]) (2.20.1)\n",
            "Requirement already satisfied: requests>=2.19 in /usr/local/lib/python3.10/dist-packages (from qiskit-ibm-runtime<0.23.0,>=0.22.0->quri-parts-qiskit->quri_parts[qiskit]) (2.31.0)\n",
            "Collecting requests-ntlm>=1.1.0 (from qiskit-ibm-runtime<0.23.0,>=0.22.0->quri-parts-qiskit->quri_parts[qiskit])\n",
            "  Downloading requests_ntlm-1.3.0-py3-none-any.whl.metadata (2.4 kB)\n",
            "Requirement already satisfied: urllib3>=1.21.1 in /usr/local/lib/python3.10/dist-packages (from qiskit-ibm-runtime<0.23.0,>=0.22.0->quri-parts-qiskit->quri_parts[qiskit]) (2.0.7)\n",
            "Requirement already satisfied: websocket-client>=1.5.1 in /usr/local/lib/python3.10/dist-packages (from qiskit-ibm-runtime<0.23.0,>=0.22.0->quri-parts-qiskit->quri_parts[qiskit]) (1.8.0)\n",
            "Collecting ibm-platform-services>=0.22.6 (from qiskit-ibm-runtime<0.23.0,>=0.22.0->quri-parts-qiskit->quri_parts[qiskit])\n",
            "  Downloading ibm-platform-services-0.55.1.tar.gz (323 kB)\n",
            "\u001b[2K     \u001b[90m━━━━━━━━━━━━━━━━━━━━━━━━━━━━━━━━━━━━━━━━\u001b[0m \u001b[32m323.1/323.1 kB\u001b[0m \u001b[31m13.1 MB/s\u001b[0m eta \u001b[36m0:00:00\u001b[0m\n",
            "\u001b[?25h  Installing build dependencies ... \u001b[?25l\u001b[?25hdone\n",
            "  Getting requirements to build wheel ... \u001b[?25l\u001b[?25hdone\n",
            "  Preparing metadata (pyproject.toml) ... \u001b[?25l\u001b[?25hdone\n",
            "Collecting ibm-cloud-sdk-core<4.0.0,>=3.20.3 (from ibm-platform-services>=0.22.6->qiskit-ibm-runtime<0.23.0,>=0.22.0->quri-parts-qiskit->quri_parts[qiskit])\n",
            "  Downloading ibm-cloud-sdk-core-3.20.3.tar.gz (62 kB)\n",
            "\u001b[2K     \u001b[90m━━━━━━━━━━━━━━━━━━━━━━━━━━━━━━━━━━━━━━━━\u001b[0m \u001b[32m62.7/62.7 kB\u001b[0m \u001b[31m3.9 MB/s\u001b[0m eta \u001b[36m0:00:00\u001b[0m\n",
            "\u001b[?25h  Installing build dependencies ... \u001b[?25l\u001b[?25hdone\n",
            "  Getting requirements to build wheel ... \u001b[?25l\u001b[?25hdone\n",
            "  Preparing metadata (pyproject.toml) ... \u001b[?25l\u001b[?25hdone\n",
            "Requirement already satisfied: charset-normalizer<4,>=2 in /usr/local/lib/python3.10/dist-packages (from requests>=2.19->qiskit-ibm-runtime<0.23.0,>=0.22.0->quri-parts-qiskit->quri_parts[qiskit]) (3.3.2)\n",
            "Requirement already satisfied: idna<4,>=2.5 in /usr/local/lib/python3.10/dist-packages (from requests>=2.19->qiskit-ibm-runtime<0.23.0,>=0.22.0->quri-parts-qiskit->quri_parts[qiskit]) (3.7)\n",
            "Requirement already satisfied: certifi>=2017.4.17 in /usr/local/lib/python3.10/dist-packages (from requests>=2.19->qiskit-ibm-runtime<0.23.0,>=0.22.0->quri-parts-qiskit->quri_parts[qiskit]) (2024.7.4)\n",
            "Requirement already satisfied: cryptography>=1.3 in /usr/local/lib/python3.10/dist-packages (from requests-ntlm>=1.1.0->qiskit-ibm-runtime<0.23.0,>=0.22.0->quri-parts-qiskit->quri_parts[qiskit]) (43.0.0)\n",
            "Collecting pyspnego>=0.4.0 (from requests-ntlm>=1.1.0->qiskit-ibm-runtime<0.23.0,>=0.22.0->quri-parts-qiskit->quri_parts[qiskit])\n",
            "  Downloading pyspnego-0.11.1-py3-none-any.whl.metadata (5.4 kB)\n",
            "Requirement already satisfied: cffi>=1.12 in /usr/local/lib/python3.10/dist-packages (from cryptography>=1.3->requests-ntlm>=1.1.0->qiskit-ibm-runtime<0.23.0,>=0.22.0->quri-parts-qiskit->quri_parts[qiskit]) (1.16.0)\n",
            "Collecting urllib3>=1.21.1 (from qiskit-ibm-runtime<0.23.0,>=0.22.0->quri-parts-qiskit->quri_parts[qiskit])\n",
            "  Downloading urllib3-2.2.2-py3-none-any.whl.metadata (6.4 kB)\n",
            "Collecting PyJWT<3.0.0,>=2.8.0 (from ibm-cloud-sdk-core<4.0.0,>=3.20.3->ibm-platform-services>=0.22.6->qiskit-ibm-runtime<0.23.0,>=0.22.0->quri-parts-qiskit->quri_parts[qiskit])\n",
            "  Downloading PyJWT-2.8.0-py3-none-any.whl.metadata (4.2 kB)\n",
            "Requirement already satisfied: pycparser in /usr/local/lib/python3.10/dist-packages (from cffi>=1.12->cryptography>=1.3->requests-ntlm>=1.1.0->qiskit-ibm-runtime<0.23.0,>=0.22.0->quri-parts-qiskit->quri_parts[qiskit]) (2.22)\n",
            "Downloading qiskit-1.1.1-cp38-abi3-manylinux_2_17_x86_64.manylinux2014_x86_64.whl (4.3 MB)\n",
            "\u001b[2K   \u001b[90m━━━━━━━━━━━━━━━━━━━━━━━━━━━━━━━━━━━━━━━━\u001b[0m \u001b[32m4.3/4.3 MB\u001b[0m \u001b[31m62.1 MB/s\u001b[0m eta \u001b[36m0:00:00\u001b[0m\n",
            "\u001b[?25hDownloading quri_parts-0.19.0-py3-none-any.whl (7.6 kB)\n",
            "Downloading dill-0.3.8-py3-none-any.whl (116 kB)\n",
            "\u001b[2K   \u001b[90m━━━━━━━━━━━━━━━━━━━━━━━━━━━━━━━━━━━━━━━━\u001b[0m \u001b[32m116.3/116.3 kB\u001b[0m \u001b[31m7.9 MB/s\u001b[0m eta \u001b[36m0:00:00\u001b[0m\n",
            "\u001b[?25hDownloading rustworkx-0.15.1-cp38-abi3-manylinux_2_17_x86_64.manylinux2014_x86_64.whl (2.0 MB)\n",
            "\u001b[2K   \u001b[90m━━━━━━━━━━━━━━━━━━━━━━━━━━━━━━━━━━━━━━━━\u001b[0m \u001b[32m2.0/2.0 MB\u001b[0m \u001b[31m64.4 MB/s\u001b[0m eta \u001b[36m0:00:00\u001b[0m\n",
            "\u001b[?25hDownloading stevedore-5.2.0-py3-none-any.whl (49 kB)\n",
            "\u001b[2K   \u001b[90m━━━━━━━━━━━━━━━━━━━━━━━━━━━━━━━━━━━━━━━━\u001b[0m \u001b[32m49.7/49.7 kB\u001b[0m \u001b[31m3.3 MB/s\u001b[0m eta \u001b[36m0:00:00\u001b[0m\n",
            "\u001b[?25hDownloading symengine-0.11.0-cp310-cp310-manylinux_2_12_x86_64.manylinux2010_x86_64.whl (39.4 MB)\n",
            "\u001b[2K   \u001b[90m━━━━━━━━━━━━━━━━━━━━━━━━━━━━━━━━━━━━━━━━\u001b[0m \u001b[32m39.4/39.4 MB\u001b[0m \u001b[31m22.6 MB/s\u001b[0m eta \u001b[36m0:00:00\u001b[0m\n",
            "\u001b[?25hDownloading quri_parts_algo-0.19.0-py3-none-any.whl (40 kB)\n",
            "\u001b[2K   \u001b[90m━━━━━━━━━━━━━━━━━━━━━━━━━━━━━━━━━━━━━━━━\u001b[0m \u001b[32m40.2/40.2 kB\u001b[0m \u001b[31m2.3 MB/s\u001b[0m eta \u001b[36m0:00:00\u001b[0m\n",
            "\u001b[?25hDownloading quri_parts_chem-0.19.0-py3-none-any.whl (27 kB)\n",
            "Downloading quri_parts_circuit-0.19.0-py3-none-any.whl (67 kB)\n",
            "\u001b[2K   \u001b[90m━━━━━━━━━━━━━━━━━━━━━━━━━━━━━━━━━━━━━━━━\u001b[0m \u001b[32m67.8/67.8 kB\u001b[0m \u001b[31m4.7 MB/s\u001b[0m eta \u001b[36m0:00:00\u001b[0m\n",
            "\u001b[?25hDownloading quri_parts_core-0.19.0-py3-none-any.whl (79 kB)\n",
            "\u001b[2K   \u001b[90m━━━━━━━━━━━━━━━━━━━━━━━━━━━━━━━━━━━━━━━━\u001b[0m \u001b[32m79.8/79.8 kB\u001b[0m \u001b[31m5.5 MB/s\u001b[0m eta \u001b[36m0:00:00\u001b[0m\n",
            "\u001b[?25hDownloading quri_parts_qiskit-0.19.0-py3-none-any.whl (28 kB)\n",
            "Downloading quri_parts_qulacs-0.19.0-py3-none-any.whl (25 kB)\n",
            "Downloading pbr-6.0.0-py2.py3-none-any.whl (107 kB)\n",
            "\u001b[2K   \u001b[90m━━━━━━━━━━━━━━━━━━━━━━━━━━━━━━━━━━━━━━━━\u001b[0m \u001b[32m107.5/107.5 kB\u001b[0m \u001b[31m7.6 MB/s\u001b[0m eta \u001b[36m0:00:00\u001b[0m\n",
            "\u001b[?25hDownloading qiskit_ibm_runtime-0.22.0-py3-none-any.whl (3.0 MB)\n",
            "\u001b[2K   \u001b[90m━━━━━━━━━━━━━━━━━━━━━━━━━━━━━━━━━━━━━━━━\u001b[0m \u001b[32m3.0/3.0 MB\u001b[0m \u001b[31m79.5 MB/s\u001b[0m eta \u001b[36m0:00:00\u001b[0m\n",
            "\u001b[?25hDownloading qulacs-0.5.6-cp310-cp310-manylinux_2_17_x86_64.manylinux2014_x86_64.whl (834 kB)\n",
            "\u001b[2K   \u001b[90m━━━━━━━━━━━━━━━━━━━━━━━━━━━━━━━━━━━━━━━━\u001b[0m \u001b[32m834.4/834.4 kB\u001b[0m \u001b[31m39.0 MB/s\u001b[0m eta \u001b[36m0:00:00\u001b[0m\n",
            "\u001b[?25hDownloading requests_ntlm-1.3.0-py3-none-any.whl (6.6 kB)\n",
            "Downloading urllib3-2.2.2-py3-none-any.whl (121 kB)\n",
            "\u001b[2K   \u001b[90m━━━━━━━━━━━━━━━━━━━━━━━━━━━━━━━━━━━━━━━━\u001b[0m \u001b[32m121.4/121.4 kB\u001b[0m \u001b[31m8.9 MB/s\u001b[0m eta \u001b[36m0:00:00\u001b[0m\n",
            "\u001b[?25hDownloading pyspnego-0.11.1-py3-none-any.whl (130 kB)\n",
            "\u001b[2K   \u001b[90m━━━━━━━━━━━━━━━━━━━━━━━━━━━━━━━━━━━━━━━━\u001b[0m \u001b[32m130.5/130.5 kB\u001b[0m \u001b[31m8.1 MB/s\u001b[0m eta \u001b[36m0:00:00\u001b[0m\n",
            "\u001b[?25hDownloading PyJWT-2.8.0-py3-none-any.whl (22 kB)\n",
            "Building wheels for collected packages: pylatexenc, ibm-platform-services, ibm-cloud-sdk-core\n",
            "  Building wheel for pylatexenc (setup.py) ... \u001b[?25l\u001b[?25hdone\n",
            "  Created wheel for pylatexenc: filename=pylatexenc-2.10-py3-none-any.whl size=136817 sha256=3a67d7558ea9ca4036900fbb2bd58f27449aea9d7d6d8244def8f4debdc75f5d\n",
            "  Stored in directory: /root/.cache/pip/wheels/d3/31/8b/e09b0386afd80cfc556c00408c9aeea5c35c4d484a9c762fd5\n",
            "  Building wheel for ibm-platform-services (pyproject.toml) ... \u001b[?25l\u001b[?25hdone\n",
            "  Created wheel for ibm-platform-services: filename=ibm_platform_services-0.55.1-py3-none-any.whl size=339686 sha256=11266104b17af9c7ca505fff951a2eb33f2ae09807ac9826b1c5e9f060eadcb6\n",
            "  Stored in directory: /root/.cache/pip/wheels/85/ac/f7/fcc0f6fb6fd090cb2c4f6f9fc55fd5aa36af0bfe1f44a9af71\n",
            "  Building wheel for ibm-cloud-sdk-core (pyproject.toml) ... \u001b[?25l\u001b[?25hdone\n",
            "  Created wheel for ibm-cloud-sdk-core: filename=ibm_cloud_sdk_core-3.20.3-py3-none-any.whl size=102558 sha256=e0ff2405c76e6f8856c51b96c3d865947914cfbd0d58d0cf0122c41e5d996c5d\n",
            "  Stored in directory: /root/.cache/pip/wheels/37/52/12/4283874e4e1f9be8c89f05de7971a7619fdffe8abf1ac989cd\n",
            "Successfully built pylatexenc ibm-platform-services ibm-cloud-sdk-core\n",
            "Installing collected packages: pylatexenc, urllib3, symengine, rustworkx, quri-parts-circuit, PyJWT, pbr, dill, stevedore, quri-parts-core, Qulacs, quri-parts-qulacs, quri-parts-chem, quri-parts-algo, qiskit, pyspnego, ibm-cloud-sdk-core, requests-ntlm, quri_parts, ibm-platform-services, qiskit-ibm-runtime, quri-parts-qiskit\n",
            "  Attempting uninstall: urllib3\n",
            "    Found existing installation: urllib3 2.0.7\n",
            "    Uninstalling urllib3-2.0.7:\n",
            "      Successfully uninstalled urllib3-2.0.7\n",
            "  Attempting uninstall: PyJWT\n",
            "    Found existing installation: PyJWT 2.3.0\n",
            "    Uninstalling PyJWT-2.3.0:\n",
            "      Successfully uninstalled PyJWT-2.3.0\n",
            "Successfully installed PyJWT-2.8.0 Qulacs-0.5.6 dill-0.3.8 ibm-cloud-sdk-core-3.20.3 ibm-platform-services-0.55.1 pbr-6.0.0 pylatexenc-2.10 pyspnego-0.11.1 qiskit-1.1.1 qiskit-ibm-runtime-0.22.0 quri-parts-algo-0.19.0 quri-parts-chem-0.19.0 quri-parts-circuit-0.19.0 quri-parts-core-0.19.0 quri-parts-qiskit-0.19.0 quri-parts-qulacs-0.19.0 quri_parts-0.19.0 requests-ntlm-1.3.0 rustworkx-0.15.1 stevedore-5.2.0 symengine-0.11.0 urllib3-2.2.2\n"
          ]
        }
      ],
      "source": [
        "!python -m pip install numpy matplotlib qiskit pylatexenc quri_parts quri_parts[qiskit] quri_parts[qulacs] scipy"
      ]
    },
    {
      "cell_type": "code",
      "execution_count": 2,
      "metadata": {
        "id": "_0MUPfe4u3CH"
      },
      "outputs": [],
      "source": [
        "import numpy as np\n",
        "from quri_parts.qiskit.circuit import convert_circuit #quri_pats -> qiskitの回路オブジェクトに変換する関数\n",
        "from quri_parts.circuit import QuantumCircuit\n",
        "from qiskit.quantum_info import Statevector"
      ]
    },
    {
      "cell_type": "markdown",
      "metadata": {
        "id": "IbdT570ku3CI"
      },
      "source": [
        "# 量子回路と量子ゲート"
      ]
    },
    {
      "cell_type": "markdown",
      "metadata": {
        "id": "u4L2R7diu3CI"
      },
      "source": [
        "### 1量子ビットゲートの例\n",
        "|    ゲート     |  説明              | コード(qiskit)  | コード(quri_parts)|\n",
        "| :-----------: | :----------------: | :-------------: |:-------------: |\n",
        "|      $X$      | $\\ket{0}$と$\\ket{1}$を入れ替える: $X\\ket{0} = \\ket{1}, \\;\\;X\\ket{1} = \\ket{0}$ | qc.x(i) | qc.add_X_gate(i) |\n",
        "|      $Z$      | $\\ket{1}$の振幅を$-1$倍する: $Z\\ket{0}=\\ket{0}, Z\\ket{1}=-\\ket{1}$ | qc.z(i) | qc.add_Z_gate(i) |\n",
        "|      $H$      | $$H\\ket{0}=\\frac{1}{\\sqrt{2}}(\\ket{0}+\\ket{1})$$  <br>  $H\\ket{1}=\\frac{1}{\\sqrt{2}}(\\ket{0}-\\ket{1})$ | qc.h(i) | qc.add_H_gate(i) |\n",
        "| $R_y(\\theta)$ | $R_y(\\theta)\\ket{0}=\\cos\\frac{\\theta}{2}\\ket{0}+\\sin\\frac{\\theta}{2}\\ket{1}$ <br> $R_y(\\theta)\\ket{1}=-\\sin\\frac{\\theta}{2}\\ket{0}+\\cos\\frac{\\theta}{2}\\ket{1}$ | qc.ry(theta, i) | qc.add_RY_gate(i,theta) |\n",
        "|  $P(\\theta)(U1)$  | $P(\\theta)\\ket{0}=\\ket{0}, P(\\theta)\\ket{1}=e^{i\\theta}\\ket{1}$ | qc.p(theta, i) | qc.add_U1_gate(i,theta) |\n"
      ]
    },
    {
      "cell_type": "markdown",
      "metadata": {
        "id": "m7alUejEu3CI"
      },
      "source": [
        "### 2量子ビットゲートの例\n",
        "\n",
        "|      ゲート      |     説明                                                                              |  コード(qiskit)  |コード(quri_parts)  |\n",
        "| :--------------: | :-----------------------------------------------------------: | :--------------: |:--------------: |\n",
        "|  $CX^i_j(CNOT)$  | ビット$i$が$1$なら$j$に$X$を作用させ、$i$が$0$なら何もしない:<br>$CX^i_j\\ket{0}_i\\ket{0}_j = \\ket{0}_i\\ket{0}_j, \\;\\;CX^i_j\\ket{1}_i\\ket{0}_j=\\ket{1}_i\\ket{1}_j$ |    qc.cx(i,j)    |qc.add_CNOT_gate(i,j)    |\n",
        "|     $CZ^i_j$     |                                                    ビット$i$が$1$なら$j$に$Z$を作用させ、$0$なら何もしない                                                    |    qc.cz(i,j)    |qc.add_CZ_gate(i,j)    |\n",
        "\n",
        "### 3量子ビットゲートの例\n",
        "|      ゲート      |     説明                                                                              |  コード(qiskit)  |コード(quri_parts)  |\n",
        "| :--------------: | :-----------------------------------------------------------: | :--------------: |:--------------: |\n",
        "| $Toffoli^{[i,j]}_k$ |                                                ビット$i$と$j$が共に1なら$k$にX(NOT)を作用させ、そうでないなら何もしない                                                | qc.mcx([i,j],k) |qc.add_TOFFOLI_gate(i,j,k)    |"
      ]
    },
    {
      "cell_type": "markdown",
      "metadata": {
        "id": "psITwdRKu3CI"
      },
      "source": [
        "# 初めての量子回路\n",
        "$XR_y\\left(\\frac{\\pi}{2}\\right)H\\ket{0}$"
      ]
    },
    {
      "cell_type": "code",
      "execution_count": null,
      "metadata": {
        "colab": {
          "base_uri": "https://localhost:8080/",
          "height": 127
        },
        "id": "cPu8oSqHu3CI",
        "outputId": "77d001eb-b299-425e-cb59-0d1b61fe7230"
      },
      "outputs": [
        {
          "data": {
            "image/png": "[encoded data removed]",
            "text/plain": [
              "<Figure size 352.675x117.056 with 1 Axes>"
            ]
          },
          "execution_count": 2,
          "metadata": {},
          "output_type": "execute_result"
        }
      ],
      "source": [
        "n_qubits = 1\n",
        "qc = QuantumCircuit(n_qubits)\n",
        "qc.add_H_gate(0)\n",
        "qc.add_RY_gate(0, np.pi / 2)\n",
        "qc.add_X_gate(0)\n",
        "\n",
        "qc = convert_circuit(qc)  # qiskitにコンバート\n",
        "qc.draw(\"mpl\")"
      ]
    },
    {
      "cell_type": "code",
      "execution_count": null,
      "metadata": {
        "id": "anZxYfduu3CJ"
      },
      "outputs": [],
      "source": [
        "#回路出力用\n",
        "def print_circuit(qc):\n",
        "    from quri_parts.qiskit.circuit import convert_circuit\n",
        "    qc_qiskit = convert_circuit(qc)\n",
        "    return qc_qiskit.draw(\"mpl\")\n",
        "\n",
        "#latex表示をする為の処理\n",
        "def visualize_latex(qc):\n",
        "    # 状態ベクトルの取得\n",
        "    from quri_parts.qiskit.circuit import convert_circuit\n",
        "    from qiskit.quantum_info import Statevector\n",
        "    #qc_qiskit = convert_circuit(qc)\n",
        "    return Statevector(qc).draw('latex')"
      ]
    },
    {
      "cell_type": "markdown",
      "metadata": {
        "id": "mYcvz7gIu3CJ"
      },
      "source": [
        "## 問題1 重ね合わせ状態の作成\n",
        "1量子ビットに対して次の量子状態:\n",
        "\n",
        "$$\n",
        "\\frac{1}{\\sqrt{2}}(\\ket{0}+i\\ket{1})\n",
        "$$\n",
        "\n",
        "を作成せよ"
      ]
    },
    {
      "cell_type": "code",
      "execution_count": null,
      "metadata": {
        "colab": {
          "base_uri": "https://localhost:8080/",
          "height": 40
        },
        "id": "6rmnnAwtu3CJ",
        "outputId": "d765d297-4d39-48bd-a969-91e7fb87a94b"
      },
      "outputs": [
        {
          "data": {
            "text/latex": [
              "$$\\frac{\\sqrt{2}}{2} |0\\rangle+\\frac{\\sqrt{2} i}{2} |1\\rangle$$"
            ],
            "text/plain": [
              "<IPython.core.display.Latex object>"
            ]
          },
          "execution_count": 4,
          "metadata": {},
          "output_type": "execute_result"
        }
      ],
      "source": [
        "n_qubits = 1\n",
        "# 量子回路の作成\n",
        "qc = QuantumCircuit(n_qubits)\n",
        "##################\n",
        "### EDIT BELOW ###\n",
        "##################\n",
        "\n",
        "qc.add_H_gate(0)\n",
        "qc.add_U1_gate(0,np.pi / 2.0)\n",
        "\n",
        "##################\n",
        "### EDIT ABOVE ###\n",
        "##################\n",
        "qc = convert_circuit(qc)\n",
        "visualize_latex(qc)"
      ]
    },
    {
      "cell_type": "markdown",
      "metadata": {
        "id": "dyXzYhIUu3CK"
      },
      "source": [
        "## 問題2 エンタングル状態の作成\n",
        "2量子ビットに対して次の量子状態:\n",
        "$$\n",
        "\\begin{align*}\n",
        "&\\frac{1}{\\sqrt{2}}(\\ket{0}\\ket{1}-\\ket{1}\\ket{0})\\\\\n",
        "=&\\frac{1}{\\sqrt{2}}(\\ket{1}-\\ket{2})\n",
        "\\end{align*}\n",
        "$$\n",
        "を作成せよ"
      ]
    },
    {
      "cell_type": "code",
      "execution_count": null,
      "metadata": {
        "colab": {
          "base_uri": "https://localhost:8080/",
          "height": 40
        },
        "id": "7NNlIRbau3CK",
        "outputId": "915b248f-8211-4607-d96e-e8af87b14a73"
      },
      "outputs": [
        {
          "data": {
            "text/latex": [
              "$$\\frac{\\sqrt{2}}{2} |01\\rangle- \\frac{\\sqrt{2}}{2} |10\\rangle$$"
            ],
            "text/plain": [
              "<IPython.core.display.Latex object>"
            ]
          },
          "execution_count": 5,
          "metadata": {},
          "output_type": "execute_result"
        }
      ],
      "source": [
        "n_qubits = 2\n",
        "# 量子回路の作成\n",
        "qc = QuantumCircuit(n_qubits)\n",
        "##################\n",
        "### EDIT BELOW ###\n",
        "##################\n",
        "\n",
        "qc.add_H_gate(1)\n",
        "qc.add_CNOT_gate(1, 0)\n",
        "qc.add_X_gate(1)\n",
        "qc.add_Z_gate(1)\n",
        "##################\n",
        "### EDIT ABOVE ###\n",
        "##################\n",
        "qc = convert_circuit(qc)\n",
        "visualize_latex(qc)"
      ]
    },
    {
      "cell_type": "markdown",
      "metadata": {
        "id": "revkFkaKu3CK"
      },
      "source": [
        "# 問題3 古典論理回路の再現"
      ]
    },
    {
      "cell_type": "markdown",
      "metadata": {
        "id": "1p241j74u3CK"
      },
      "source": [
        "### AND (0,1がregisterで2が出力結果)\n",
        "$$\n",
        "\\begin{align*}\n",
        "\\ket{000}\\to\\ket{000}\\\\\n",
        "\\ket{001}\\to\\ket{001}\\\\\n",
        "\\ket{010}\\to\\ket{010}\\\\\n",
        "\\ket{011}\\to\\ket{111}\\\\\n",
        "\\end{align*}\n",
        "$$"
      ]
    },
    {
      "cell_type": "code",
      "execution_count": null,
      "metadata": {
        "colab": {
          "base_uri": "https://localhost:8080/",
          "height": 37
        },
        "id": "hb-eopmfu3CK",
        "outputId": "df3bcd64-9600-459d-9a2f-bbfd4ed5ac23"
      },
      "outputs": [
        {
          "data": {
            "text/latex": [
              "$$ |111\\rangle$$"
            ],
            "text/plain": [
              "<IPython.core.display.Latex object>"
            ]
          },
          "execution_count": 9,
          "metadata": {},
          "output_type": "execute_result"
        }
      ],
      "source": [
        "n_qubits = 3\n",
        "# 量子回路の作成\n",
        "qc = QuantumCircuit(n_qubits)\n",
        "##################\n",
        "### EDIT BELOW ###\n",
        "##################\n",
        "\n",
        "#ここはレジスター\n",
        "qc.add_X_gate(0)\n",
        "qc.add_X_gate(1)\n",
        "\n",
        "#本体\n",
        "qc.add_TOFFOLI_gate(0, 1, 2)\n",
        "\n",
        "##################\n",
        "### EDIT ABOVE ###\n",
        "##################\n",
        "qc = convert_circuit(qc)\n",
        "visualize_latex(qc)\n"
      ]
    },
    {
      "cell_type": "markdown",
      "metadata": {
        "id": "VwBrg_fZu3CK"
      },
      "source": [
        "\n",
        "### OR (0,1がregisterで2が出力結果)\n",
        "$$\n",
        "\\begin{align*}\n",
        "\\ket{000}\\to\\ket{000}\\\\\n",
        "\\ket{001}\\to\\ket{101}\\\\\n",
        "\\ket{010}\\to\\ket{110}\\\\\n",
        "\\ket{011}\\to\\ket{111}\\\\\n",
        "\\end{align*}\n",
        "$$"
      ]
    },
    {
      "cell_type": "code",
      "execution_count": null,
      "metadata": {
        "colab": {
          "base_uri": "https://localhost:8080/",
          "height": 37
        },
        "id": "P-vyvtdru3CK",
        "outputId": "6dee217c-3535-48f1-92d8-c740cb270ffd"
      },
      "outputs": [
        {
          "data": {
            "text/latex": [
              "$$ |111\\rangle$$"
            ],
            "text/plain": [
              "<IPython.core.display.Latex object>"
            ]
          },
          "execution_count": 10,
          "metadata": {},
          "output_type": "execute_result"
        }
      ],
      "source": [
        "n_qubits = 3\n",
        "# 量子回路の作成\n",
        "qc = QuantumCircuit(n_qubits)\n",
        "##################\n",
        "### EDIT BELOW ###\n",
        "##################\n",
        "\n",
        "#ここはレジスター\n",
        "qc.add_X_gate(0)\n",
        "qc.add_X_gate(1)\n",
        "\n",
        "\n",
        "qc.add_CNOT_gate(0, 2)\n",
        "qc.add_CNOT_gate(1, 2)\n",
        "qc.add_TOFFOLI_gate(0, 1, 2)\n",
        "\n",
        "##################\n",
        "### EDIT ABOVE ###\n",
        "##################\n",
        "qc = convert_circuit(qc)\n",
        "visualize_latex(qc)"
      ]
    },
    {
      "cell_type": "markdown",
      "metadata": {
        "id": "tU55aVJqu3CK"
      },
      "source": [
        "# 問題4 Equal Superpositionの作成\n",
        "$N$量子ビットに対して次の量子状態\n",
        "$$\n",
        "\\frac{1}{\\sqrt{2^N}}\\sum_{k=0}^{2^N-1}\\ket{k}\n",
        "$$\n",
        "を作成せよ (以下では$N=3$)"
      ]
    },
    {
      "cell_type": "code",
      "execution_count": null,
      "metadata": {
        "colab": {
          "base_uri": "https://localhost:8080/",
          "height": 40
        },
        "id": "C6Y4KCXBu3CL",
        "outputId": "752267e7-d3b6-47cd-a191-160c610b05ea"
      },
      "outputs": [
        {
          "data": {
            "text/latex": [
              "$$\\frac{\\sqrt{2}}{4} |000\\rangle+\\frac{\\sqrt{2}}{4} |001\\rangle+\\frac{\\sqrt{2}}{4} |010\\rangle+\\frac{\\sqrt{2}}{4} |011\\rangle+\\frac{\\sqrt{2}}{4} |100\\rangle+\\frac{\\sqrt{2}}{4} |101\\rangle+\\frac{\\sqrt{2}}{4} |110\\rangle+\\frac{\\sqrt{2}}{4} |111\\rangle$$"
            ],
            "text/plain": [
              "<IPython.core.display.Latex object>"
            ]
          },
          "execution_count": 11,
          "metadata": {},
          "output_type": "execute_result"
        }
      ],
      "source": [
        "n_qubits = 3\n",
        "# 量子回路の作成\n",
        "qc = QuantumCircuit(n_qubits)\n",
        "##################\n",
        "### EDIT BELOW ###\n",
        "##################\n",
        "\n",
        "for k in range(n_qubits):\n",
        "    qc.add_H_gate(k)\n",
        "\n",
        "##################\n",
        "### EDIT ABOVE ###\n",
        "##################\n",
        "qc = convert_circuit(qc)\n",
        "visualize_latex(qc)"
      ]
    },
    {
      "cell_type": "markdown",
      "metadata": {
        "id": "GrVkE_xDu3CL"
      },
      "source": [
        "# 測定について"
      ]
    },
    {
      "cell_type": "code",
      "execution_count": null,
      "metadata": {
        "colab": {
          "base_uri": "https://localhost:8080/",
          "height": 255
        },
        "id": "XU-0ktyku3CL",
        "outputId": "dea53ff3-b6d5-45f6-e065-6c129b35289e"
      },
      "outputs": [
        {
          "name": "stdout",
          "output_type": "stream",
          "text": [
            "Counter({7: 137, 4: 132, 3: 131, 0: 125, 1: 124, 2: 123, 5: 123, 6: 105})\n"
          ]
        }
      ],
      "source": [
        "from quri_parts.qulacs.sampler import create_qulacs_vector_sampler\n",
        "\n",
        "n_qubits = 3\n",
        "# 量子回路の作成\n",
        "qc = QuantumCircuit(n_qubits)\n",
        "for i in range(n_qubits):\n",
        "    qc.add_H_gate(i)\n",
        "qc.add_CNOT_gate(1, 0)\n",
        "qc.add_X_gate(1)\n",
        "qc.add_Z_gate(1)\n",
        "\n",
        "# Create the sampler\n",
        "sampler = create_qulacs_vector_sampler()\n",
        "sampling_result = sampler(qc, shots=1000)\n",
        "print(sampling_result)"
      ]
    },
    {
      "cell_type": "code",
      "execution_count": null,
      "metadata": {
        "colab": {
          "base_uri": "https://localhost:8080/",
          "height": 38
        },
        "id": "r0zWdClVu3CL",
        "outputId": "78b62f7f-39eb-4bfa-b99d-02183f2778c1"
      },
      "outputs": [
        {
          "data": {
            "image/png": "[encoded data removed]",
            "text/plain": [
              "<Figure size 640x480 with 1 Axes>"
            ]
          },
          "metadata": {},
          "output_type": "display_data"
        }
      ],
      "source": [
        "def show_sample_result(data, n_qubits):\n",
        "    import matplotlib.pyplot as plt\n",
        "\n",
        "    # データをキーでソート\n",
        "    sorted_data = dict(sorted(data.items()))\n",
        "\n",
        "    # キーと値を別々のリストに分ける\n",
        "    keys = list(sorted_data.keys())\n",
        "    values = list(sorted_data.values())\n",
        "\n",
        "    # キーをn_qubitsに応じた桁数の二進数表記に変換\n",
        "    bin_keys = [format(key, f'0{n_qubits}b') for key in keys]\n",
        "\n",
        "    # ヒストグラムのプロット\n",
        "    plt.bar(bin_keys, values, edgecolor='black')\n",
        "\n",
        "    # グラフのタイトルとラベル\n",
        "    plt.title('Sampling Result')\n",
        "    plt.xlabel('State (Binary)')\n",
        "    plt.ylabel('Count')\n",
        "\n",
        "    # x軸の目盛りを45度回転\n",
        "    plt.xticks(rotation=45)\n",
        "\n",
        "    # グラフの表示\n",
        "    plt.show()\n",
        "show_sample_result(sampling_result, n_qubits)\n"
      ]
    },
    {
      "cell_type": "markdown",
      "metadata": {
        "id": "VJEnKPbbu3CL"
      },
      "source": [
        "# 物理量の期待値の計算"
      ]
    },
    {
      "cell_type": "markdown",
      "metadata": {
        "id": "FbsPhLQru3CL"
      },
      "source": [
        "量子ゲート U により状態\n",
        "$$\n",
        "\\ket{\\psi} = U\\ket{0}\n",
        "$$\n",
        "を作成し、物理量の期待値\n",
        "$$\n",
        "\\bra{\\psi}O\\ket{\\psi}\n",
        "$$\n",
        "を計算してみます"
      ]
    },
    {
      "cell_type": "code",
      "execution_count": null,
      "metadata": {
        "id": "wjTR9t_eu3CL"
      },
      "outputs": [],
      "source": [
        "from quri_parts.core.operator import Operator, pauli_label\n",
        "from quri_parts.qulacs.estimator import create_qulacs_vector_estimator\n",
        "from quri_parts.core.state import quantum_state"
      ]
    },
    {
      "cell_type": "markdown",
      "metadata": {
        "id": "qBC6iapzu3CL"
      },
      "source": [
        "## 物理量(オブザーバブル)の作成"
      ]
    },
    {
      "cell_type": "code",
      "execution_count": null,
      "metadata": {
        "colab": {
          "base_uri": "https://localhost:8080/"
        },
        "id": "P6sd8G-nu3CM",
        "outputId": "7a599a0c-1a0e-4f06-dfe5-e7b356904649"
      },
      "outputs": [
        {
          "name": "stdout",
          "output_type": "stream",
          "text": [
            "2*Z0 Z1 Z2 + -1*X0 Y1 Z2 + 1*Y0 + 1*Y1 + 1*Y2\n"
          ]
        }
      ],
      "source": [
        "n_qubits = 3\n",
        "op = Operator()\n",
        "op.add_term(pauli_label(\"Z0 Z1 Z2\"), 2) #Pauli行列を文字列として渡せばオブザーバブルになる\n",
        "op.add_term(pauli_label(\"X0 Y1 Z2\"), -1)\n",
        "for k in range(n_qubits):\n",
        "    op.add_term(pauli_label(f\"Y{k}\"), 1)\n",
        "print(op)"
      ]
    },
    {
      "cell_type": "code",
      "execution_count": null,
      "metadata": {
        "colab": {
          "base_uri": "https://localhost:8080/",
          "height": 37
        },
        "id": "PhCI-F2su3CM",
        "outputId": "5decf826-894d-4831-db89-d37804adc11f"
      },
      "outputs": [
        {
          "data": {
            "text/latex": [
              "$$ |011\\rangle$$"
            ],
            "text/plain": [
              "<IPython.core.display.Latex object>"
            ]
          },
          "execution_count": 30,
          "metadata": {},
          "output_type": "execute_result"
        }
      ],
      "source": [
        "n_qubits = 3\n",
        "# 量子回路の作成\n",
        "qc = QuantumCircuit(n_qubits)\n",
        "\n",
        "#適当な状態を作成\n",
        "qc.add_X_gate(0)\n",
        "qc.add_X_gate(1)\n",
        "\n",
        "state = quantum_state(n_qubits, circuit=qc)\n",
        "\n",
        "qc = convert_circuit(qc)\n",
        "visualize_latex(qc)"
      ]
    },
    {
      "cell_type": "code",
      "execution_count": null,
      "metadata": {
        "colab": {
          "base_uri": "https://localhost:8080/"
        },
        "id": "K2t_jWISu3CM",
        "outputId": "32990120-4827-418b-8dac-790154abade3"
      },
      "outputs": [
        {
          "name": "stdout",
          "output_type": "stream",
          "text": [
            "Estimated expectation value: (2+0j)\n",
            "Estimation error: 0.0\n"
          ]
        }
      ],
      "source": [
        "estimator = create_qulacs_vector_estimator() # Estimatorを作成 今回はqulacsを使用\n",
        "estimate = estimator(op, state) # 演算子(オブザーバブル)と状態を渡す\n",
        "\n",
        "# 戻り値には推定された期待値と、誤差が含まれる\n",
        "print(f\"Estimated expectation value: {estimate.value}\")\n",
        "# (サンプリングではなく状態ベクトルのシミュレーションの場合、誤差は0になる)\n",
        "print(f\"Estimation error: {estimate.error}\")"
      ]
    },
    {
      "cell_type": "markdown",
      "metadata": {
        "id": "DFiTa_vfu3CM"
      },
      "source": [
        "# 問題5 Ising model のエネルギーの計算\n",
        "Ising modelのハミルトニアン:\n",
        "$$\n",
        "H = -\\sum_{k=0}^{N-1} Z_iZ_{i+1}\n",
        "$$\n",
        "を作成(N=4)し、"
      ]
    },
    {
      "cell_type": "markdown",
      "metadata": {
        "id": "PnUyEbcfu3CM"
      },
      "source": [
        "状態$\\ket{\\psi}$がそれぞれ$\\ket{0101}$, $\\ket{0000}$, $\\ket{1111}$ の時の期待値 $\\bra{\\psi}H\\ket{\\psi}$ を計算し、結果を考察せよ"
      ]
    },
    {
      "cell_type": "code",
      "execution_count": null,
      "metadata": {
        "colab": {
          "base_uri": "https://localhost:8080/"
        },
        "id": "sr-te32Ku3CM",
        "outputId": "07998b75-2c9c-48a7-e663-e54c049fa123"
      },
      "outputs": [
        {
          "name": "stdout",
          "output_type": "stream",
          "text": [
            "-1*Z0 Z1 + -1*Z1 Z2 + -1*Z2 Z3 + -1*Z0 Z3\n"
          ]
        }
      ],
      "source": [
        "n_qubits = 4\n",
        "op = Operator()\n",
        "##################\n",
        "### EDIT BELOW ###\n",
        "##################\n",
        "\n",
        "for i in range(n_qubits-1):\n",
        "    op.add_term(pauli_label(f\"Z{i} Z{i+1}\"), -1)\n",
        "\n",
        "op.add_term(pauli_label(f\"Z{0} Z{n_qubits-1}\"), -1)\n",
        "\n",
        "##################\n",
        "### EDIT ABOVE ###\n",
        "##################\n",
        "print(op)"
      ]
    },
    {
      "cell_type": "code",
      "execution_count": null,
      "metadata": {
        "colab": {
          "base_uri": "https://localhost:8080/"
        },
        "id": "Ag8OIN_0u3CM",
        "outputId": "1670b088-ac5d-464b-8623-d1564fe5f70c"
      },
      "outputs": [
        {
          "name": "stdout",
          "output_type": "stream",
          "text": [
            "Estimated expectation value: (-4+0j)\n",
            "Estimation error: 0.0\n"
          ]
        }
      ],
      "source": [
        "qc = QuantumCircuit(n_qubits)\n",
        "\n",
        "#状態を作成\n",
        "##################\n",
        "### EDIT BELOW ###\n",
        "##################\n",
        "\n",
        "qc.add_X_gate(0)\n",
        "qc.add_X_gate(1)\n",
        "qc.add_X_gate(2)\n",
        "qc.add_X_gate(3)\n",
        "\n",
        "##################\n",
        "### EDIT ABOVE ###\n",
        "##################\n",
        "\n",
        "\n",
        "\n",
        "state = quantum_state(n_qubits, circuit=qc)\n",
        "estimator = create_qulacs_vector_estimator() # Estimatorを作成 今回はqulacsを使用\n",
        "estimate = estimator(op, state) # 演算子(オブザーバブル)と状態を渡す\n",
        "\n",
        "# 戻り値には推定された期待値と、誤差が含まれる\n",
        "print(f\"Estimated expectation value: {estimate.value}\")\n",
        "# (サンプリングではなく状態ベクトルのシミュレーションの場合、誤差は0になる)\n",
        "print(f\"Estimation error: {estimate.error}\")"
      ]
    },
    {
      "cell_type": "code",
      "execution_count": null,
      "metadata": {
        "id": "DKcynWRx_cqu"
      },
      "outputs": [],
      "source": []
    }
  ],
  "metadata": {
    "colab": {
      "provenance": []
    },
    "kernelspec": {
      "display_name": "Python 3 (ipykernel)",
      "language": "python",
      "name": "python3"
    }
  },
  "nbformat": 4,
  "nbformat_minor": 0
}
