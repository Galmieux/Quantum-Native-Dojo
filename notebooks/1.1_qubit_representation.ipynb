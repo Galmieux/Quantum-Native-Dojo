{
  "cells": [
    {
      "cell_type": "markdown",
      "metadata": {
        "id": "view-in-github",
        "colab_type": "text"
      },
      "source": [
        "<a href=\"https://colab.research.google.com/github/Galmieux/Quantum-Native-Dojo/blob/main/notebooks/1.1_qubit_representation.ipynb\" target=\"_parent\"><img src=\"https://colab.research.google.com/assets/colab-badge.svg\" alt=\"Open In Colab\"/></a>"
      ]
    },
    {
      "cell_type": "markdown",
      "metadata": {
        "id": "cArDQYeJjDi5"
      },
      "source": [
        "## 1-1. 量子ビット\n",
        "古典コンピュータ（量子コンピュータではない既存のコンピュータのこと）内部では情報は 0 と 1 の２つの状態で表現されている。例えば、スイッチのオン・オフの状態や、電荷がたまった状態とそうでない状態、電圧の高・低などでその２状態を表現している。一方、量子力学では異なる２つの状態の**重ね合わせ状態**というのが許されているので、量子の世界の情報の最小単位である**“量子”ビット**は $\\alpha$と$\\beta$という二つの複素数を用いた複素ベクトルを用いて\n",
        "\n",
        "$$\n",
        "\\left(\n",
        "\\begin{array}{c}\n",
        "\\alpha\n",
        "\\\\\n",
        "\\beta\n",
        "\\end{array}\n",
        "\\right)\n",
        "$$\n",
        "\n",
        "のようにその量子状態が記述される。"
      ]
    },
    {
      "cell_type": "markdown",
      "metadata": {
        "id": "rhuRq2WujDi5"
      },
      "source": [
        "$\\alpha$や$\\beta$はどの程度の重みで0状態と1状態が重ね合わさっているかを表しており、**複素確率振幅**と呼ばれる。\n",
        "$\\alpha$や$\\beta$が複素数になっているのは、量子の世界では0や1といった離散的な量も波の性質をもち干渉するためである。\n",
        "\n",
        "古典ビットの0に対応する状態は\n",
        "\n",
        "$$\n",
        "\\left(\n",
        "\\begin{array}{c}\n",
        "1\n",
        "\\\\\n",
        "0\n",
        "\\end{array}\n",
        "\\right)\n",
        "$$\n",
        "\n",
        "1に対応する状態は\n",
        "\n",
        "$$\n",
        "\\left(\n",
        "\\begin{array}{c}\n",
        "0\n",
        "\\\\\n",
        "1\n",
        "\\end{array}\n",
        "\\right)\n",
        "$$\n",
        "\n",
        "となる。"
      ]
    },
    {
      "cell_type": "markdown",
      "metadata": {
        "id": "jyz8NYXVjDi6"
      },
      "source": [
        "列ベクトルを毎回書いているとスペースが無駄なので、**ディラックのブラケット表記**という簡略化した表記を導入する。これは列ベクトルである、という量子状態の型宣言のようなもので、この記号がついていると量子状態をあらわす複素ベクトルであることが一目でわかるようになっている。\n",
        "\n",
        "$$\n",
        "|0\\rangle = \\left(\n",
        "\\begin{array}{c}\n",
        "1\n",
        "\\\\\n",
        "0\n",
        "\\end{array}\n",
        "\\right)\n",
        "$$\n",
        "$$\n",
        "|1\\rangle = \\left(\n",
        "\\begin{array}{c}\n",
        "0\n",
        "\\\\\n",
        "1\n",
        "\\end{array}\n",
        "\\right)\n",
        "$$\n",
        "\n",
        "この表記を用いると量子ビットは\n",
        "\n",
        "$$\n",
        "|\\psi \\rangle = \\alpha |0\\rangle + \\beta |1\\rangle\n",
        "$$\n",
        "\n",
        "と書かれる（スペースが省略できた！）。"
      ]
    },
    {
      "cell_type": "markdown",
      "metadata": {
        "id": "qdjvhYqrjDi7"
      },
      "source": [
        "### 複素確率振幅の意味"
      ]
    },
    {
      "cell_type": "markdown",
      "metadata": {
        "id": "beNKd2n8jDi9"
      },
      "source": [
        "複素確率振幅はいったいどのような物理的実体に対応するだろうか。実は、量子力学では観測者（人間）は直接複素確率振幅にはアクセスすることができず、**測定という操作をした時に初めて0か1かが確率的にきまる**。測定結果の確率分布に影響するのが複素確率振幅である。測定結果が0になる確率$p_0$, 1になる確率$p_1$は複素確率振幅の絶対値の2乗で表される:\n",
        "\n",
        "$$\n",
        "p_0 = |\\alpha |^2,\n",
        "\\\\\n",
        "p_1 = |\\beta |^2\n",
        "$$\n",
        "\n",
        "確率の和が1になるように、規格化条件 $|\\alpha |^2 + |\\beta |^2 =1$を課す。\n",
        "\n",
        "**測定を行うと、量子状態は測定結果に対応する状態に変化する**。具体的には、測定結果が0の場合は$|0\\rangle$、1の場合は$|1\\rangle$に変化する。この測定を、正規直交基底$|0\\rangle$, $|1\\rangle$での射影測定と呼ぶ。$|0\\rangle$, $|1\\rangle$以外の正規直交基底での射影測定や、より一般の測定もあるが、ここでは扱わない。\n",
        "\n",
        "まとめると、\n",
        "\n",
        "- 量子状態は、大きさが１に規格化された複素ベクトルによって記述される。\n",
        "- 各成分の絶対値の２乗が、測定をしたときにその成分に対応する状態を得る確率である。\n",
        "- 測定後の量子状態は、測定結果に応じて$|0\\rangle$または$|1\\rangle$となる。\n",
        "\n",
        "したがって、\n",
        "\n",
        "$$\n",
        "|0\\rangle = \\left(\n",
        "\\begin{array}{c}\n",
        "1\n",
        "\\\\\n",
        "0\n",
        "\\end{array}\n",
        "\\right), |1\\rangle = \\left(\n",
        "\\begin{array}{c}\n",
        "0\n",
        "\\\\\n",
        "1\n",
        "\\end{array}\n",
        "\\right)\n",
        "$$\n",
        "\n",
        "は、確実に0や1が得られる古典的な状態に対応し、\n",
        "\n",
        "$$\n",
        "\\frac{1}{\\sqrt{2}}\n",
        "(|0\\rangle + |1\\rangle) = \\left(\n",
        "\\begin{array}{c}\n",
        "\\frac{1}{\\sqrt{2}}\n",
        "\\\\\n",
        "\\frac{1}{\\sqrt{2}}\n",
        "\\end{array}\n",
        "\\right)\n",
        "$$\n",
        "\n",
        "は0と1が同じ重みで重ね合わさった状態であり、測定をすると0と1が確率1/2で完全にランダムに得られる。\n",
        "\n",
        "複素確率振幅は複素数なので、\n",
        "\n",
        "$$\n",
        "\\frac{1}{\\sqrt{2}}(|0\\rangle + i|1\\rangle ) =\n",
        "\\left(\n",
        "\\begin{array}{c}\n",
        "\\frac{1}{\\sqrt{2}}\n",
        "\\\\\n",
        "\\frac{i}{\\sqrt{2}}\n",
        "\\end{array}\n",
        "\\right)\n",
        "$$\n",
        "\n",
        "といった状態も許されている。より一般に、\n",
        "\n",
        "$$\n",
        "\\frac{1}{\\sqrt{2}} ( |0\\rangle + e^{ i \\phi } |1\\rangle )\n",
        "$$\n",
        "\n",
        "なども許されている。この状態の場合、状態0に対する確率振幅 ($1/\\sqrt{2}$) が正の実数であるのに対して、状態1に対する確率振幅 ($e^{i\\phi}/\\sqrt{2}$) は、複素平面上で$\\phi$回転している。このような、重ね合わせ状態における確率振幅間の相対的な偏角のことを**位相**と呼び、量子力学全般において重要な役割を果たす。\n",
        "\n",
        "(詳細は Nielsen-Chuang の `1.2 Quantum bits` を参照)"
      ]
    },
    {
      "cell_type": "markdown",
      "metadata": {
        "id": "Oi3PkG3KjDi9"
      },
      "source": [
        "### SymPyを用いて量子ビットを表示してみる\n",
        "SymPyでは、量子状態を扱うことができる。初期化された量子ビットを準備する場合は ` Qubit() ` 関数を用いる。\n"
      ]
    },
    {
      "cell_type": "code",
      "execution_count": 2,
      "metadata": {
        "id": "U-NFd2sGjDi-"
      },
      "outputs": [],
      "source": [
        "from IPython.display import Image, display_png\n",
        "from sympy import *\n",
        "from sympy.physics.quantum import *\n",
        "from sympy.physics.quantum.qubit import Qubit,QubitBra\n",
        "init_printing() # ベクトルや行列を綺麗に表示するため"
      ]
    },
    {
      "cell_type": "code",
      "execution_count": 4,
      "metadata": {
        "nbsphinx": "hidden",
        "colab": {
          "base_uri": "https://localhost:8080/",
          "height": 17
        },
        "id": "W0idsT0_nCQE",
        "outputId": "a00c873a-4a9d-44d6-f41d-a5f066350d6a"
      },
      "outputs": [
        {
          "output_type": "display_data",
          "data": {
            "text/plain": [
              "<IPython.core.display.HTML object>"
            ],
            "text/html": [
              "\n",
              "    <script>\n",
              "        if (!window.MathJax && window.google && window.google.colab) {\n",
              "            window.MathJax = {\n",
              "                'tex2jax': {\n",
              "                    'inlineMath': [['$', '$'], ['\\(', '\\)']],\n",
              "                    'displayMath': [['$$', '$$'], ['\\[', '\\]']],\n",
              "                    'processEscapes': true,\n",
              "                    'processEnvironments': true,\n",
              "                    'skipTags': ['script', 'noscript', 'style', 'textarea', 'code'],\n",
              "                    'displayAlign': 'center',\n",
              "                },\n",
              "                'HTML-CSS': {\n",
              "                    'styles': {'.MathJax_Display': {'margin': 0}},\n",
              "                    'linebreaks': {'automatic': true},\n",
              "                    // Disable to prevent OTF font loading, which aren't part of our\n",
              "                    // distribution.\n",
              "                    'imageFont': null,\n",
              "                },\n",
              "               'messageStyle': 'none'\n",
              "            };\n",
              "            var script = document.createElement(\"script\");\n",
              "            script.src = \"https://colab.research.google.com/static/mathjax/MathJax.js?config=TeX-AMS_HTML-full,Safe\";\n",
              "            document.head.appendChild(script);\n",
              "        }\n",
              "    </script>\n",
              "    "
            ]
          },
          "metadata": {}
        }
      ],
      "source": [
        "# Google Colaboratory上でのみ実行してください\n",
        "from IPython.display import HTML\n",
        "def setup_mathjax():\n",
        "    display(HTML('''\n",
        "    <script>\n",
        "        if (!window.MathJax && window.google && window.google.colab) {\n",
        "            window.MathJax = {\n",
        "                'tex2jax': {\n",
        "                    'inlineMath': [['$', '$'], ['\\\\(', '\\\\)']],\n",
        "                    'displayMath': [['$$', '$$'], ['\\\\[', '\\\\]']],\n",
        "                    'processEscapes': true,\n",
        "                    'processEnvironments': true,\n",
        "                    'skipTags': ['script', 'noscript', 'style', 'textarea', 'code'],\n",
        "                    'displayAlign': 'center',\n",
        "                },\n",
        "                'HTML-CSS': {\n",
        "                    'styles': {'.MathJax_Display': {'margin': 0}},\n",
        "                    'linebreaks': {'automatic': true},\n",
        "                    // Disable to prevent OTF font loading, which aren't part of our\n",
        "                    // distribution.\n",
        "                    'imageFont': null,\n",
        "                },\n",
        "               'messageStyle': 'none'\n",
        "            };\n",
        "            var script = document.createElement(\"script\");\n",
        "            script.src = \"https://colab.research.google.com/static/mathjax/MathJax.js?config=TeX-AMS_HTML-full,Safe\";\n",
        "            document.head.appendChild(script);\n",
        "        }\n",
        "    </script>\n",
        "    '''))\n",
        "get_ipython().events.register('pre_run_cell', setup_mathjax)"
      ]
    },
    {
      "cell_type": "code",
      "execution_count": 5,
      "metadata": {
        "colab": {
          "base_uri": "https://localhost:8080/",
          "height": 17
        },
        "id": "VhRF1PVanCQE",
        "outputId": "1dd9269e-6586-4ca5-8469-4b66dce36ab9"
      },
      "outputs": [
        {
          "output_type": "display_data",
          "data": {
            "text/plain": [
              "<IPython.core.display.HTML object>"
            ],
            "text/html": [
              "\n",
              "    <script>\n",
              "        if (!window.MathJax && window.google && window.google.colab) {\n",
              "            window.MathJax = {\n",
              "                'tex2jax': {\n",
              "                    'inlineMath': [['$', '$'], ['\\(', '\\)']],\n",
              "                    'displayMath': [['$$', '$$'], ['\\[', '\\]']],\n",
              "                    'processEscapes': true,\n",
              "                    'processEnvironments': true,\n",
              "                    'skipTags': ['script', 'noscript', 'style', 'textarea', 'code'],\n",
              "                    'displayAlign': 'center',\n",
              "                },\n",
              "                'HTML-CSS': {\n",
              "                    'styles': {'.MathJax_Display': {'margin': 0}},\n",
              "                    'linebreaks': {'automatic': true},\n",
              "                    // Disable to prevent OTF font loading, which aren't part of our\n",
              "                    // distribution.\n",
              "                    'imageFont': null,\n",
              "                },\n",
              "               'messageStyle': 'none'\n",
              "            };\n",
              "            var script = document.createElement(\"script\");\n",
              "            script.src = \"https://colab.research.google.com/static/mathjax/MathJax.js?config=TeX-AMS_HTML-full,Safe\";\n",
              "            document.head.appendChild(script);\n",
              "        }\n",
              "    </script>\n",
              "    "
            ]
          },
          "metadata": {}
        },
        {
          "output_type": "display_data",
          "data": {
            "text/plain": [
              "<IPython.core.display.HTML object>"
            ],
            "text/html": [
              "\n",
              "    <script>\n",
              "        if (!window.MathJax && window.google && window.google.colab) {\n",
              "            window.MathJax = {\n",
              "                'tex2jax': {\n",
              "                    'inlineMath': [['$', '$'], ['\\(', '\\)']],\n",
              "                    'displayMath': [['$$', '$$'], ['\\[', '\\]']],\n",
              "                    'processEscapes': true,\n",
              "                    'processEnvironments': true,\n",
              "                    'skipTags': ['script', 'noscript', 'style', 'textarea', 'code'],\n",
              "                    'displayAlign': 'center',\n",
              "                },\n",
              "                'HTML-CSS': {\n",
              "                    'styles': {'.MathJax_Display': {'margin': 0}},\n",
              "                    'linebreaks': {'automatic': true},\n",
              "                    // Disable to prevent OTF font loading, which aren't part of our\n",
              "                    // distribution.\n",
              "                    'imageFont': null,\n",
              "                },\n",
              "               'messageStyle': 'none'\n",
              "            };\n",
              "            var script = document.createElement(\"script\");\n",
              "            script.src = \"https://colab.research.google.com/static/mathjax/MathJax.js?config=TeX-AMS_HTML-full,Safe\";\n",
              "            document.head.appendChild(script);\n",
              "        }\n",
              "    </script>\n",
              "    "
            ]
          },
          "metadata": {}
        }
      ],
      "source": [
        "psi = Qubit('0')"
      ]
    },
    {
      "cell_type": "code",
      "execution_count": 6,
      "metadata": {
        "colab": {
          "base_uri": "https://localhost:8080/",
          "height": 37
        },
        "id": "23yD1G8LjDjB",
        "outputId": "6c53d9d9-ac2a-4fcd-9258-103812418d1d"
      },
      "outputs": [
        {
          "output_type": "display_data",
          "data": {
            "text/plain": [
              "<IPython.core.display.HTML object>"
            ],
            "text/html": [
              "\n",
              "    <script>\n",
              "        if (!window.MathJax && window.google && window.google.colab) {\n",
              "            window.MathJax = {\n",
              "                'tex2jax': {\n",
              "                    'inlineMath': [['$', '$'], ['\\(', '\\)']],\n",
              "                    'displayMath': [['$$', '$$'], ['\\[', '\\]']],\n",
              "                    'processEscapes': true,\n",
              "                    'processEnvironments': true,\n",
              "                    'skipTags': ['script', 'noscript', 'style', 'textarea', 'code'],\n",
              "                    'displayAlign': 'center',\n",
              "                },\n",
              "                'HTML-CSS': {\n",
              "                    'styles': {'.MathJax_Display': {'margin': 0}},\n",
              "                    'linebreaks': {'automatic': true},\n",
              "                    // Disable to prevent OTF font loading, which aren't part of our\n",
              "                    // distribution.\n",
              "                    'imageFont': null,\n",
              "                },\n",
              "               'messageStyle': 'none'\n",
              "            };\n",
              "            var script = document.createElement(\"script\");\n",
              "            script.src = \"https://colab.research.google.com/static/mathjax/MathJax.js?config=TeX-AMS_HTML-full,Safe\";\n",
              "            document.head.appendChild(script);\n",
              "        }\n",
              "    </script>\n",
              "    "
            ]
          },
          "metadata": {}
        },
        {
          "output_type": "display_data",
          "data": {
            "text/plain": [
              "<IPython.core.display.HTML object>"
            ],
            "text/html": [
              "\n",
              "    <script>\n",
              "        if (!window.MathJax && window.google && window.google.colab) {\n",
              "            window.MathJax = {\n",
              "                'tex2jax': {\n",
              "                    'inlineMath': [['$', '$'], ['\\(', '\\)']],\n",
              "                    'displayMath': [['$$', '$$'], ['\\[', '\\]']],\n",
              "                    'processEscapes': true,\n",
              "                    'processEnvironments': true,\n",
              "                    'skipTags': ['script', 'noscript', 'style', 'textarea', 'code'],\n",
              "                    'displayAlign': 'center',\n",
              "                },\n",
              "                'HTML-CSS': {\n",
              "                    'styles': {'.MathJax_Display': {'margin': 0}},\n",
              "                    'linebreaks': {'automatic': true},\n",
              "                    // Disable to prevent OTF font loading, which aren't part of our\n",
              "                    // distribution.\n",
              "                    'imageFont': null,\n",
              "                },\n",
              "               'messageStyle': 'none'\n",
              "            };\n",
              "            var script = document.createElement(\"script\");\n",
              "            script.src = \"https://colab.research.google.com/static/mathjax/MathJax.js?config=TeX-AMS_HTML-full,Safe\";\n",
              "            document.head.appendChild(script);\n",
              "        }\n",
              "    </script>\n",
              "    "
            ]
          },
          "metadata": {}
        },
        {
          "output_type": "execute_result",
          "data": {
            "text/plain": [
              "❘0⟩"
            ],
            "text/latex": "$\\displaystyle {\\left|0\\right\\rangle }$"
          },
          "metadata": {},
          "execution_count": 6
        }
      ],
      "source": [
        "psi #ブラケット表示"
      ]
    },
    {
      "cell_type": "code",
      "execution_count": 7,
      "metadata": {
        "colab": {
          "base_uri": "https://localhost:8080/",
          "height": 58
        },
        "id": "mBiG7DB7jDjE",
        "outputId": "927261f0-63c4-416b-ea4e-efbf685cd30e"
      },
      "outputs": [
        {
          "output_type": "display_data",
          "data": {
            "text/plain": [
              "<IPython.core.display.HTML object>"
            ],
            "text/html": [
              "\n",
              "    <script>\n",
              "        if (!window.MathJax && window.google && window.google.colab) {\n",
              "            window.MathJax = {\n",
              "                'tex2jax': {\n",
              "                    'inlineMath': [['$', '$'], ['\\(', '\\)']],\n",
              "                    'displayMath': [['$$', '$$'], ['\\[', '\\]']],\n",
              "                    'processEscapes': true,\n",
              "                    'processEnvironments': true,\n",
              "                    'skipTags': ['script', 'noscript', 'style', 'textarea', 'code'],\n",
              "                    'displayAlign': 'center',\n",
              "                },\n",
              "                'HTML-CSS': {\n",
              "                    'styles': {'.MathJax_Display': {'margin': 0}},\n",
              "                    'linebreaks': {'automatic': true},\n",
              "                    // Disable to prevent OTF font loading, which aren't part of our\n",
              "                    // distribution.\n",
              "                    'imageFont': null,\n",
              "                },\n",
              "               'messageStyle': 'none'\n",
              "            };\n",
              "            var script = document.createElement(\"script\");\n",
              "            script.src = \"https://colab.research.google.com/static/mathjax/MathJax.js?config=TeX-AMS_HTML-full,Safe\";\n",
              "            document.head.appendChild(script);\n",
              "        }\n",
              "    </script>\n",
              "    "
            ]
          },
          "metadata": {}
        },
        {
          "output_type": "display_data",
          "data": {
            "text/plain": [
              "<IPython.core.display.HTML object>"
            ],
            "text/html": [
              "\n",
              "    <script>\n",
              "        if (!window.MathJax && window.google && window.google.colab) {\n",
              "            window.MathJax = {\n",
              "                'tex2jax': {\n",
              "                    'inlineMath': [['$', '$'], ['\\(', '\\)']],\n",
              "                    'displayMath': [['$$', '$$'], ['\\[', '\\]']],\n",
              "                    'processEscapes': true,\n",
              "                    'processEnvironments': true,\n",
              "                    'skipTags': ['script', 'noscript', 'style', 'textarea', 'code'],\n",
              "                    'displayAlign': 'center',\n",
              "                },\n",
              "                'HTML-CSS': {\n",
              "                    'styles': {'.MathJax_Display': {'margin': 0}},\n",
              "                    'linebreaks': {'automatic': true},\n",
              "                    // Disable to prevent OTF font loading, which aren't part of our\n",
              "                    // distribution.\n",
              "                    'imageFont': null,\n",
              "                },\n",
              "               'messageStyle': 'none'\n",
              "            };\n",
              "            var script = document.createElement(\"script\");\n",
              "            script.src = \"https://colab.research.google.com/static/mathjax/MathJax.js?config=TeX-AMS_HTML-full,Safe\";\n",
              "            document.head.appendChild(script);\n",
              "        }\n",
              "    </script>\n",
              "    "
            ]
          },
          "metadata": {}
        },
        {
          "output_type": "execute_result",
          "data": {
            "text/plain": [
              "⎡1⎤\n",
              "⎢ ⎥\n",
              "⎣0⎦"
            ],
            "text/latex": "$\\displaystyle \\left[\\begin{matrix}1\\\\0\\end{matrix}\\right]$"
          },
          "metadata": {},
          "execution_count": 7
        }
      ],
      "source": [
        "represent(psi) #列ベクトル表示"
      ]
    },
    {
      "cell_type": "markdown",
      "metadata": {
        "id": "5WFFlU7PjDjI"
      },
      "source": [
        "SymPyでは文字をシンボルとして扱うことができるので、一般的な量子ビットも簡単に書ける。"
      ]
    },
    {
      "cell_type": "code",
      "execution_count": 10,
      "metadata": {
        "colab": {
          "base_uri": "https://localhost:8080/",
          "height": 38
        },
        "id": "rFqkqRPgjDjI",
        "outputId": "98ed2ca4-2723-4d67-b244-85b744d31414"
      },
      "outputs": [
        {
          "output_type": "display_data",
          "data": {
            "text/plain": [
              "<IPython.core.display.HTML object>"
            ],
            "text/html": [
              "\n",
              "    <script>\n",
              "        if (!window.MathJax && window.google && window.google.colab) {\n",
              "            window.MathJax = {\n",
              "                'tex2jax': {\n",
              "                    'inlineMath': [['$', '$'], ['\\(', '\\)']],\n",
              "                    'displayMath': [['$$', '$$'], ['\\[', '\\]']],\n",
              "                    'processEscapes': true,\n",
              "                    'processEnvironments': true,\n",
              "                    'skipTags': ['script', 'noscript', 'style', 'textarea', 'code'],\n",
              "                    'displayAlign': 'center',\n",
              "                },\n",
              "                'HTML-CSS': {\n",
              "                    'styles': {'.MathJax_Display': {'margin': 0}},\n",
              "                    'linebreaks': {'automatic': true},\n",
              "                    // Disable to prevent OTF font loading, which aren't part of our\n",
              "                    // distribution.\n",
              "                    'imageFont': null,\n",
              "                },\n",
              "               'messageStyle': 'none'\n",
              "            };\n",
              "            var script = document.createElement(\"script\");\n",
              "            script.src = \"https://colab.research.google.com/static/mathjax/MathJax.js?config=TeX-AMS_HTML-full,Safe\";\n",
              "            document.head.appendChild(script);\n",
              "        }\n",
              "    </script>\n",
              "    "
            ]
          },
          "metadata": {}
        },
        {
          "output_type": "display_data",
          "data": {
            "text/plain": [
              "<IPython.core.display.HTML object>"
            ],
            "text/html": [
              "\n",
              "    <script>\n",
              "        if (!window.MathJax && window.google && window.google.colab) {\n",
              "            window.MathJax = {\n",
              "                'tex2jax': {\n",
              "                    'inlineMath': [['$', '$'], ['\\(', '\\)']],\n",
              "                    'displayMath': [['$$', '$$'], ['\\[', '\\]']],\n",
              "                    'processEscapes': true,\n",
              "                    'processEnvironments': true,\n",
              "                    'skipTags': ['script', 'noscript', 'style', 'textarea', 'code'],\n",
              "                    'displayAlign': 'center',\n",
              "                },\n",
              "                'HTML-CSS': {\n",
              "                    'styles': {'.MathJax_Display': {'margin': 0}},\n",
              "                    'linebreaks': {'automatic': true},\n",
              "                    // Disable to prevent OTF font loading, which aren't part of our\n",
              "                    // distribution.\n",
              "                    'imageFont': null,\n",
              "                },\n",
              "               'messageStyle': 'none'\n",
              "            };\n",
              "            var script = document.createElement(\"script\");\n",
              "            script.src = \"https://colab.research.google.com/static/mathjax/MathJax.js?config=TeX-AMS_HTML-full,Safe\";\n",
              "            document.head.appendChild(script);\n",
              "        }\n",
              "    </script>\n",
              "    "
            ]
          },
          "metadata": {}
        },
        {
          "output_type": "execute_result",
          "data": {
            "text/plain": [
              "α⋅❘0⟩ + β⋅❘1⟩"
            ],
            "text/latex": "$\\displaystyle \\alpha {\\left|0\\right\\rangle } + \\beta {\\left|1\\right\\rangle }$"
          },
          "metadata": {},
          "execution_count": 10
        }
      ],
      "source": [
        "a, b = symbols('alpha, beta')  #a, bをシンボルとして、alpha, betaとして表示\n",
        "ket0 = Qubit('0')\n",
        "ket1 = Qubit('1')\n",
        "psi = a * ket0 + b* ket1\n",
        "psi # 状態をそのまま書くとケットで表示してくれる"
      ]
    },
    {
      "cell_type": "code",
      "execution_count": 15,
      "metadata": {
        "colab": {
          "base_uri": "https://localhost:8080/",
          "height": 38
        },
        "outputId": "c4587e05-5555-46ae-fee5-5a6e1d1186a0",
        "id": "hl0tfYvPt-Pb"
      },
      "outputs": [
        {
          "output_type": "display_data",
          "data": {
            "text/plain": [
              "<IPython.core.display.HTML object>"
            ],
            "text/html": [
              "\n",
              "    <script>\n",
              "        if (!window.MathJax && window.google && window.google.colab) {\n",
              "            window.MathJax = {\n",
              "                'tex2jax': {\n",
              "                    'inlineMath': [['$', '$'], ['\\(', '\\)']],\n",
              "                    'displayMath': [['$$', '$$'], ['\\[', '\\]']],\n",
              "                    'processEscapes': true,\n",
              "                    'processEnvironments': true,\n",
              "                    'skipTags': ['script', 'noscript', 'style', 'textarea', 'code'],\n",
              "                    'displayAlign': 'center',\n",
              "                },\n",
              "                'HTML-CSS': {\n",
              "                    'styles': {'.MathJax_Display': {'margin': 0}},\n",
              "                    'linebreaks': {'automatic': true},\n",
              "                    // Disable to prevent OTF font loading, which aren't part of our\n",
              "                    // distribution.\n",
              "                    'imageFont': null,\n",
              "                },\n",
              "               'messageStyle': 'none'\n",
              "            };\n",
              "            var script = document.createElement(\"script\");\n",
              "            script.src = \"https://colab.research.google.com/static/mathjax/MathJax.js?config=TeX-AMS_HTML-full,Safe\";\n",
              "            document.head.appendChild(script);\n",
              "        }\n",
              "    </script>\n",
              "    "
            ]
          },
          "metadata": {}
        },
        {
          "output_type": "display_data",
          "data": {
            "text/plain": [
              "<IPython.core.display.HTML object>"
            ],
            "text/html": [
              "\n",
              "    <script>\n",
              "        if (!window.MathJax && window.google && window.google.colab) {\n",
              "            window.MathJax = {\n",
              "                'tex2jax': {\n",
              "                    'inlineMath': [['$', '$'], ['\\(', '\\)']],\n",
              "                    'displayMath': [['$$', '$$'], ['\\[', '\\]']],\n",
              "                    'processEscapes': true,\n",
              "                    'processEnvironments': true,\n",
              "                    'skipTags': ['script', 'noscript', 'style', 'textarea', 'code'],\n",
              "                    'displayAlign': 'center',\n",
              "                },\n",
              "                'HTML-CSS': {\n",
              "                    'styles': {'.MathJax_Display': {'margin': 0}},\n",
              "                    'linebreaks': {'automatic': true},\n",
              "                    // Disable to prevent OTF font loading, which aren't part of our\n",
              "                    // distribution.\n",
              "                    'imageFont': null,\n",
              "                },\n",
              "               'messageStyle': 'none'\n",
              "            };\n",
              "            var script = document.createElement(\"script\");\n",
              "            script.src = \"https://colab.research.google.com/static/mathjax/MathJax.js?config=TeX-AMS_HTML-full,Safe\";\n",
              "            document.head.appendChild(script);\n",
              "        }\n",
              "    </script>\n",
              "    "
            ]
          },
          "metadata": {}
        },
        {
          "output_type": "execute_result",
          "data": {
            "text/plain": [
              "α⋅❘0⟩ + β⋅❘1⟩"
            ],
            "text/latex": "$\\displaystyle \\alpha {\\left|0\\right\\rangle } + \\beta {\\left|1\\right\\rangle }$"
          },
          "metadata": {},
          "execution_count": 15
        }
      ],
      "source": [
        "# Qubitを直接式の中で利用出来るかテスト\n",
        "a, b = symbols('alpha, beta')  #a, bをシンボルとして、alpha, betaとして表示\n",
        "# Zero = Qubit('0')\n",
        "# One = Qubit('1')\n",
        "psi = a * Qubit('0') + b* Qubit('1')\n",
        "psi # 状態をそのまま書くとケットで表示してくれる"
      ]
    },
    {
      "cell_type": "code",
      "execution_count": 11,
      "metadata": {
        "colab": {
          "base_uri": "https://localhost:8080/",
          "height": 58
        },
        "id": "dITE71DOjDjM",
        "outputId": "13174563-f890-42ae-b548-93b8f0014f59"
      },
      "outputs": [
        {
          "output_type": "display_data",
          "data": {
            "text/plain": [
              "<IPython.core.display.HTML object>"
            ],
            "text/html": [
              "\n",
              "    <script>\n",
              "        if (!window.MathJax && window.google && window.google.colab) {\n",
              "            window.MathJax = {\n",
              "                'tex2jax': {\n",
              "                    'inlineMath': [['$', '$'], ['\\(', '\\)']],\n",
              "                    'displayMath': [['$$', '$$'], ['\\[', '\\]']],\n",
              "                    'processEscapes': true,\n",
              "                    'processEnvironments': true,\n",
              "                    'skipTags': ['script', 'noscript', 'style', 'textarea', 'code'],\n",
              "                    'displayAlign': 'center',\n",
              "                },\n",
              "                'HTML-CSS': {\n",
              "                    'styles': {'.MathJax_Display': {'margin': 0}},\n",
              "                    'linebreaks': {'automatic': true},\n",
              "                    // Disable to prevent OTF font loading, which aren't part of our\n",
              "                    // distribution.\n",
              "                    'imageFont': null,\n",
              "                },\n",
              "               'messageStyle': 'none'\n",
              "            };\n",
              "            var script = document.createElement(\"script\");\n",
              "            script.src = \"https://colab.research.google.com/static/mathjax/MathJax.js?config=TeX-AMS_HTML-full,Safe\";\n",
              "            document.head.appendChild(script);\n",
              "        }\n",
              "    </script>\n",
              "    "
            ]
          },
          "metadata": {}
        },
        {
          "output_type": "display_data",
          "data": {
            "text/plain": [
              "<IPython.core.display.HTML object>"
            ],
            "text/html": [
              "\n",
              "    <script>\n",
              "        if (!window.MathJax && window.google && window.google.colab) {\n",
              "            window.MathJax = {\n",
              "                'tex2jax': {\n",
              "                    'inlineMath': [['$', '$'], ['\\(', '\\)']],\n",
              "                    'displayMath': [['$$', '$$'], ['\\[', '\\]']],\n",
              "                    'processEscapes': true,\n",
              "                    'processEnvironments': true,\n",
              "                    'skipTags': ['script', 'noscript', 'style', 'textarea', 'code'],\n",
              "                    'displayAlign': 'center',\n",
              "                },\n",
              "                'HTML-CSS': {\n",
              "                    'styles': {'.MathJax_Display': {'margin': 0}},\n",
              "                    'linebreaks': {'automatic': true},\n",
              "                    // Disable to prevent OTF font loading, which aren't part of our\n",
              "                    // distribution.\n",
              "                    'imageFont': null,\n",
              "                },\n",
              "               'messageStyle': 'none'\n",
              "            };\n",
              "            var script = document.createElement(\"script\");\n",
              "            script.src = \"https://colab.research.google.com/static/mathjax/MathJax.js?config=TeX-AMS_HTML-full,Safe\";\n",
              "            document.head.appendChild(script);\n",
              "        }\n",
              "    </script>\n",
              "    "
            ]
          },
          "metadata": {}
        },
        {
          "output_type": "execute_result",
          "data": {
            "text/plain": [
              "⎡α⎤\n",
              "⎢ ⎥\n",
              "⎣β⎦"
            ],
            "text/latex": "$\\displaystyle \\left[\\begin{matrix}\\alpha\\\\\\beta\\end{matrix}\\right]$"
          },
          "metadata": {},
          "execution_count": 11
        }
      ],
      "source": [
        "represent(psi)"
      ]
    },
    {
      "cell_type": "markdown",
      "source": [],
      "metadata": {
        "id": "AtPiiYsSxatJ"
      }
    },
    {
      "cell_type": "markdown",
      "metadata": {
        "id": "suKiATZ5jDjP"
      },
      "source": [
        "もちろん具体的な数値を代入することもできる。"
      ]
    },
    {
      "cell_type": "code",
      "execution_count": 18,
      "metadata": {
        "colab": {
          "base_uri": "https://localhost:8080/",
          "height": 55
        },
        "id": "55qn4NVHjDjP",
        "outputId": "14b671c2-6708-4738-e020-96cdabfca3f9",
        "scrolled": true
      },
      "outputs": [
        {
          "output_type": "display_data",
          "data": {
            "text/plain": [
              "<IPython.core.display.HTML object>"
            ],
            "text/html": [
              "\n",
              "    <script>\n",
              "        if (!window.MathJax && window.google && window.google.colab) {\n",
              "            window.MathJax = {\n",
              "                'tex2jax': {\n",
              "                    'inlineMath': [['$', '$'], ['\\(', '\\)']],\n",
              "                    'displayMath': [['$$', '$$'], ['\\[', '\\]']],\n",
              "                    'processEscapes': true,\n",
              "                    'processEnvironments': true,\n",
              "                    'skipTags': ['script', 'noscript', 'style', 'textarea', 'code'],\n",
              "                    'displayAlign': 'center',\n",
              "                },\n",
              "                'HTML-CSS': {\n",
              "                    'styles': {'.MathJax_Display': {'margin': 0}},\n",
              "                    'linebreaks': {'automatic': true},\n",
              "                    // Disable to prevent OTF font loading, which aren't part of our\n",
              "                    // distribution.\n",
              "                    'imageFont': null,\n",
              "                },\n",
              "               'messageStyle': 'none'\n",
              "            };\n",
              "            var script = document.createElement(\"script\");\n",
              "            script.src = \"https://colab.research.google.com/static/mathjax/MathJax.js?config=TeX-AMS_HTML-full,Safe\";\n",
              "            document.head.appendChild(script);\n",
              "        }\n",
              "    </script>\n",
              "    "
            ]
          },
          "metadata": {}
        },
        {
          "output_type": "display_data",
          "data": {
            "text/plain": [
              "<IPython.core.display.HTML object>"
            ],
            "text/html": [
              "\n",
              "    <script>\n",
              "        if (!window.MathJax && window.google && window.google.colab) {\n",
              "            window.MathJax = {\n",
              "                'tex2jax': {\n",
              "                    'inlineMath': [['$', '$'], ['\\(', '\\)']],\n",
              "                    'displayMath': [['$$', '$$'], ['\\[', '\\]']],\n",
              "                    'processEscapes': true,\n",
              "                    'processEnvironments': true,\n",
              "                    'skipTags': ['script', 'noscript', 'style', 'textarea', 'code'],\n",
              "                    'displayAlign': 'center',\n",
              "                },\n",
              "                'HTML-CSS': {\n",
              "                    'styles': {'.MathJax_Display': {'margin': 0}},\n",
              "                    'linebreaks': {'automatic': true},\n",
              "                    // Disable to prevent OTF font loading, which aren't part of our\n",
              "                    // distribution.\n",
              "                    'imageFont': null,\n",
              "                },\n",
              "               'messageStyle': 'none'\n",
              "            };\n",
              "            var script = document.createElement(\"script\");\n",
              "            script.src = \"https://colab.research.google.com/static/mathjax/MathJax.js?config=TeX-AMS_HTML-full,Safe\";\n",
              "            document.head.appendChild(script);\n",
              "        }\n",
              "    </script>\n",
              "    "
            ]
          },
          "metadata": {}
        },
        {
          "output_type": "execute_result",
          "data": {
            "text/plain": [
              "√2⋅❘0⟩   √2⋅❘1⟩\n",
              "────── + ──────\n",
              "  2        2   "
            ],
            "text/latex": "$\\displaystyle \\frac{\\sqrt{2} {\\left|0\\right\\rangle }}{2} + \\frac{\\sqrt{2} {\\left|1\\right\\rangle }}{2}$"
          },
          "metadata": {},
          "execution_count": 18
        }
      ],
      "source": [
        "psi.subs([([a,1/sqrt(2)]),([b,1/sqrt(2)])]) # alpha, betaに具体的な数字を代入"
      ]
    },
    {
      "cell_type": "markdown",
      "source": [
        "このコードは、おそらく量子コンピューティングのライブラリ（Qiskitなど）で使用されていると思われます。\n",
        "\n",
        "このコードは、量子状態 psi に対して、変数 a と b をそれぞれ 1/sqrt(2) に置き換える操作を行っています。\n",
        "\n",
        "具体的な解説は以下の通りです。\n",
        "\n",
        "psi: これは量子状態を表す変数です。量子状態は、量子ビットの重ね合わせ状態を表す数学的な表現です。\n",
        "\n",
        ".subs(): これは、量子状態 psi 内の変数を置き換えるためのメソッドです。\n",
        "\n",
        "[([a, 1/sqrt(2)]), ([b, 1/sqrt(2)])]: これは、置き換えられる変数とその値のリストです。この場合、変数 a は 1/sqrt(2) に、変数 b も 1/sqrt(2) に置き換えられます。\n",
        "\n",
        "この操作により、量子状態 psi は、変数 a と b が具体的な数値に置き換えられた新しい量子状態に変換されます。\n",
        "\n",
        "この操作は、量子アルゴリズムの設計や解析において、特定の量子状態を準備したり、量子状態の変化を計算したりするために使用されます。"
      ],
      "metadata": {
        "id": "VJw7iE1bxVOX"
      }
    }
  ],
  "metadata": {
    "colab": {
      "name": "1_basics_of_quantum_information.ipynb",
      "provenance": [],
      "include_colab_link": true
    },
    "kernelspec": {
      "display_name": "Python 3",
      "language": "python",
      "name": "python3"
    },
    "language_info": {
      "codemirror_mode": {
        "name": "ipython",
        "version": 3
      },
      "file_extension": ".py",
      "mimetype": "text/x-python",
      "name": "python",
      "nbconvert_exporter": "python",
      "pygments_lexer": "ipython3",
      "version": "3.7.5"
    },
    "varInspector": {
      "cols": {
        "lenName": 16,
        "lenType": 16,
        "lenVar": 40
      },
      "kernels_config": {
        "python": {
          "delete_cmd_postfix": "",
          "delete_cmd_prefix": "del ",
          "library": "var_list.py",
          "varRefreshCmd": "print(var_dic_list())"
        },
        "r": {
          "delete_cmd_postfix": ") ",
          "delete_cmd_prefix": "rm(",
          "library": "var_list.r",
          "varRefreshCmd": "cat(var_dic_list()) "
        }
      },
      "types_to_exclude": [
        "module",
        "function",
        "builtin_function_or_method",
        "instance",
        "_Feature"
      ],
      "window_display": false
    }
  },
  "nbformat": 4,
  "nbformat_minor": 0
}